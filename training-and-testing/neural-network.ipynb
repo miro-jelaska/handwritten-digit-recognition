{
 "cells": [
  {
   "cell_type": "code",
   "execution_count": 2,
   "metadata": {
    "collapsed": false
   },
   "outputs": [
    {
     "name": "stdout",
     "output_type": "stream",
     "text": [
      "test_count 10000\n",
      "hit_count 9553\n",
      "miss_count 447\n",
      "hit ratio 95.53\n"
     ]
    }
   ],
   "source": [
    "import numpy as np\n",
    "import matplotlib.pyplot\n",
    "from matplotlib.pyplot import imshow\n",
    "import scipy.special as scipy\n",
    "from PIL import Image\n",
    "import codecs, json \n",
    "\n",
    "class NeuralNetwork(object):\n",
    "    def __init__(self):\n",
    "        self.input_neuron_count = 28*28 # One for each pixel, 28*28 = 784 in total.\n",
    "        self.hidden_neuron_count = 100 # Arbitraty.\n",
    "        self.output_neuron_count = 10 # One for each digit from 0 to 9.\n",
    "        self.learning_rate = 0.1 # Arbitraty.\n",
    "\n",
    "        # Sampling the weights from a normal probability distribution\n",
    "        # centered around zero and with standard deviation \n",
    "        # that is related to the number of incoming links into a node,\n",
    "        # 1/√(number of incoming links).\n",
    "        generate_random_weight_matrix = lambda input_neuron_count, output_neuron_count: ( \n",
    "            np.random.normal(0.0,  pow(input_neuron_count, -0.5), (input_neuron_count, output_neuron_count))\n",
    "        )\n",
    "\n",
    "        self.input_x_hidden_weights = generate_random_weight_matrix(self.input_neuron_count, self.hidden_neuron_count)\n",
    "        self.hidden_x_output_weights = generate_random_weight_matrix(self.hidden_neuron_count, self.output_neuron_count)\n",
    "\n",
    "        self.activation_function = lambda value: scipy.expit(value) # Sigmoid function\n",
    "\n",
    "    def train(self, input_array, target_array):\n",
    "        inputs = np.array(input_array, ndmin=2)\n",
    "        targets = np.array(target_array, ndmin=2)\n",
    "\n",
    "        hidden_layer_input = np.dot(inputs, self.input_x_hidden_weights)\n",
    "        hidden_layer_output = self.activation_function(hidden_layer_input)\n",
    "\n",
    "        output_layer_input = np.dot(hidden_layer_output, self.hidden_x_output_weights)\n",
    "        output_layer_output = self.activation_function(output_layer_input)\n",
    "\n",
    "        output_errors = targets - output_layer_output\n",
    "        self.hidden_x_output_weights += self.learning_rate * np.dot(hidden_layer_output.T, (output_errors * output_layer_output * (1 - output_layer_output)))\n",
    "\n",
    "        hidden_errors = np.dot(output_errors, self.hidden_x_output_weights.T)\n",
    "        self.input_x_hidden_weights += self.learning_rate * np.dot(inputs.T, (hidden_errors * hidden_layer_output * (1 - hidden_layer_output)))\n",
    "\n",
    "    def query(self, input_array):\n",
    "        inputs = np.array(input_array, ndmin=2)\n",
    "\n",
    "        hidden_layer_input = np.dot(inputs, self.input_x_hidden_weights)\n",
    "        hidden_layer_output = self.activation_function(hidden_layer_input)\n",
    "\n",
    "        output_layer_input = np.dot(hidden_layer_output, self.hidden_x_output_weights)\n",
    "        output_layer_output = self.activation_function(output_layer_input)\n",
    "\n",
    "        return output_layer_output\n",
    "    \n",
    "    def export(self):\n",
    "        input_x_hidden_weights = self.input_x_hidden_weights.tolist()\n",
    "        json.dump(input_x_hidden_weights, codecs.open('input_x_hidden_weights.json', 'w', encoding='utf-8'), separators=(',', ':'), sort_keys=True, indent=4)\n",
    "        hidden_x_output_weights = self.hidden_x_output_weights.tolist()\n",
    "        json.dump(hidden_x_output_weights, codecs.open('hidden_x_output_weights.json', 'w', encoding='utf-8'), separators=(',', ':'), sort_keys=True, indent=4)\n",
    "    \n",
    "def prepare_data(handwritten_digit_array):\n",
    "    return ((handwritten_digit_array / 255.0 * 0.99) + 0.0001).flatten()\n",
    "    \n",
    "def create_target(digit_target):\n",
    "    target = np.zeros(10) + 0.01\n",
    "    target[digit_target] = target[digit_target] + 0.98\n",
    "    return target\n",
    "\n",
    "def get_index_of_max(array):\n",
    "    array = array[0]\n",
    "    index = 0\n",
    "    m = max(array)\n",
    "    for n in array:\n",
    "        if n == m:\n",
    "            return index\n",
    "        index = index + 1\n",
    "\n",
    "# Training\n",
    "neural_network = NeuralNetwork()\n",
    "training_data_file = open('mnist_train.csv', 'r')\n",
    "training_data = training_data_file.readlines()\n",
    "training_data_file.close()\n",
    "\n",
    "# Training / First epoch\n",
    "for data in training_data:\n",
    "    handwritten_digit_raw = data.split(',')\n",
    "    handwritten_digit_array = np.asfarray(handwritten_digit_raw[1:]).reshape((28, 28))\n",
    "    handwritten_digit_target = int(handwritten_digit_raw[0])\n",
    "    neural_network.train(prepare_data(handwritten_digit_array), create_target(handwritten_digit_target))\n",
    "\n",
    "# Training / Second epoch\n",
    "for data in training_data:\n",
    "    handwritten_digit_raw = data.split(',')\n",
    "    handwritten_digit_array = np.asfarray(handwritten_digit_raw[1:]).reshape((28, 28))\n",
    "    handwritten_digit_target = int(handwritten_digit_raw[0])\n",
    "    neural_network.train(prepare_data(handwritten_digit_array), create_target(handwritten_digit_target))\n",
    "    \n",
    "# Testing\n",
    "test_data_file = open('mnist_test.csv', 'r')\n",
    "test_data = test_data_file.readlines()\n",
    "test_data_file.close()\n",
    "\n",
    "test_count = 0\n",
    "hit_count = 0\n",
    "miss_count =0\n",
    "for data in test_data:\n",
    "    #np.set_printoptions(precision=4, threshold=10000)\n",
    "    handwritten_digit_raw = data.split(',')\n",
    "    handwritten_digit_array = np.asfarray(handwritten_digit_raw[1:]).reshape((28, 28))\n",
    "    handwritten_digit_target = int(handwritten_digit_raw[0])\n",
    "    output = neural_network.query(handwritten_digit_array.flatten())\n",
    "    \n",
    "    hit_or_miss = get_index_of_max(output)\n",
    "    if hit_or_miss == handwritten_digit_target:\n",
    "        hit_count = hit_count + 1\n",
    "    else:\n",
    "        miss_count = miss_count + 1\n",
    "    test_count = test_count + 1\n",
    "    \n",
    "print(\"test_count\", test_count)\n",
    "print(\"hit_count\", hit_count)\n",
    "print(\"miss_count\", miss_count)\n",
    "print(\"hit ratio\", hit_count/test_count * 100)\n",
    "\n",
    "neural_network.export();"
   ]
  },
  {
   "cell_type": "code",
   "execution_count": 36,
   "metadata": {
    "collapsed": false
   },
   "outputs": [
    {
     "name": "stdout",
     "output_type": "stream",
     "text": [
      "[[  4.3066e-03   1.2250e-02   1.6254e-03   9.8859e-01   1.6573e-02\n",
      "    1.0645e-02   2.7040e-04   3.1279e-03   6.7723e-03   3.8612e-03]]\n",
      "3\n"
     ]
    },
    {
     "data": {
      "image/png": "[encoded data removed]",
      "text/plain": [
       "<matplotlib.figure.Figure at 0x108a01eb8>"
      ]
     },
     "metadata": {},
     "output_type": "display_data"
    }
   ],
   "source": [
    "# Previe of test image and result of recognition\n",
    "%matplotlib inline  \n",
    "test_image_index = 7040\n",
    "test_data_file = open('mnist_test.csv', 'r')\n",
    "test_data = test_data_file.readlines()\n",
    "test_data_file.close()\n",
    "data = test_data[test_image_index]\n",
    "handwritten_digit_raw = data.split(',')\n",
    "handwritten_digit_array = np.asfarray(handwritten_digit_raw[1:]).reshape((28, 28))\n",
    "handwritten_digit_target = int(handwritten_digit_raw[0])\n",
    "matplotlib.pyplot.imshow(handwritten_digit_array, cmap='Greys', interpolation='None')\n",
    "output = neural_network.query(handwritten_digit_array.flatten())\n",
    "print(output)\n",
    "print(get_index_of_max(output))"
   ]
  }
 ],
 "metadata": {
  "kernelspec": {
   "display_name": "Python 3",
   "language": "python",
   "name": "python3"
  },
  "language_info": {
   "codemirror_mode": {
    "name": "ipython",
    "version": 3
   },
   "file_extension": ".py",
   "mimetype": "text/x-python",
   "name": "python",
   "nbconvert_exporter": "python",
   "pygments_lexer": "ipython3",
   "version": "3.6.0"
  }
 },
 "nbformat": 4,
 "nbformat_minor": 2
}
